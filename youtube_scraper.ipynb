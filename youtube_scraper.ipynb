{
 "cells": [
  {
   "cell_type": "code",
   "execution_count": 4,
   "metadata": {},
   "outputs": [],
   "source": [
    "from selenium import webdriver\n",
    "from webdriver_manager.chrome import ChromeDriverManager\n",
    "from selenium.webdriver.common.keys import Keys\n",
    "from selenium.webdriver.common.by import By\n",
    "from selenium.webdriver.support.ui import WebDriverWait\n",
    "from selenium.webdriver.support import expected_conditions as EC\n",
    "import time\n",
    "import json"
   ]
  },
  {
   "cell_type": "code",
   "execution_count": 8,
   "metadata": {
    "scrolled": true
   },
   "outputs": [],
   "source": [
    "# function for appending data in json format\n",
    "def write_json(new_data, filename='data.json'):\n",
    "    with open(filename, 'r+') as file:\n",
    "        # First we load existing data into a dict.\n",
    "        file_data = json.load(file)\n",
    "        # Join new_data with file_data inside emp_details\n",
    "        file_data[\"comments\"].append(new_data)\n",
    "        # Sets file's current position at offset.\n",
    "        file.seek(0)\n",
    "        # convert back to json.\n",
    "        json.dump(file_data, file, indent=4)"
   ]
  },
  {
   "cell_type": "code",
   "execution_count": 10,
   "metadata": {
    "scrolled": true
   },
   "outputs": [],
   "source": [
    "# installing chrome driver\n",
    "driver = webdriver.Chrome(ChromeDriverManager().install())\n",
    "# takes to our desired page\n",
    "driver.get(\"https://www.youtube.com/watch?v=bpQFCcSI0pU\")\n",
    "wait = WebDriverWait(driver,20)"
   ]
  },
  {
   "cell_type": "code",
   "execution_count": 11,
   "metadata": {},
   "outputs": [],
   "source": [
    "# a dictionary that holds all the comments\n",
    "comments_dict = {\n",
    "    \"comments\":[]\n",
    "}\n",
    "# creating a json file to store data\n",
    "with open(\"data.json\", \"w\") as f:\n",
    "    json.dump(comments_dict, f, indent=2)"
   ]
  },
  {
   "cell_type": "code",
   "execution_count": 12,
   "metadata": {
    "scrolled": false
   },
   "outputs": [
    {
     "name": "stdout",
     "output_type": "stream",
     "text": [
      "20\n"
     ]
    }
   ],
   "source": [
    "time.sleep(2)\n",
    "# ytd_comments = driver.find_elements_by_css_selector(\"div#contents>ytd-comment-thread-renderer\")\n",
    "# print(len(ytd_comments))\n",
    "driver.execute_script(\"window.scrollBy(0,700)\", \"\")\n",
    "time.sleep(2)\n",
    "ytd_comments = wait.until(EC.presence_of_all_elements_located((By.CSS_SELECTOR, \"div#contents>ytd-comment-thread-renderer\")))\n",
    "print(len(ytd_comments))"
   ]
  },
  {
   "cell_type": "code",
   "execution_count": 14,
   "metadata": {},
   "outputs": [
    {
     "ename": "AttributeError",
     "evalue": "'WebDriver' object has no attribute 'find_elements_by_css_selector'",
     "output_type": "error",
     "traceback": [
      "\u001b[1;31m---------------------------------------------------------------------------\u001b[0m",
      "\u001b[1;31mAttributeError\u001b[0m                            Traceback (most recent call last)",
      "Cell \u001b[1;32mIn[14], line 7\u001b[0m\n\u001b[0;32m      4\u001b[0m slicing_num \u001b[38;5;241m=\u001b[39m \u001b[38;5;241m0\u001b[39m\n\u001b[0;32m      5\u001b[0m \u001b[38;5;28;01mwhile\u001b[39;00m \u001b[38;5;28;01mTrue\u001b[39;00m:\n\u001b[0;32m      6\u001b[0m     \u001b[38;5;66;03m# finding the comments\u001b[39;00m\n\u001b[1;32m----> 7\u001b[0m     ytd_comments \u001b[38;5;241m=\u001b[39m driver\u001b[38;5;241m.\u001b[39mfind_elements_by_css_selector(\u001b[38;5;124m\"\u001b[39m\u001b[38;5;124mdiv#contents>ytd-comment-thread-renderer\u001b[39m\u001b[38;5;124m\"\u001b[39m)\n\u001b[0;32m      8\u001b[0m     \u001b[38;5;66;03m# length of the list of comments\u001b[39;00m\n\u001b[0;32m      9\u001b[0m     old_ytd_comments_len \u001b[38;5;241m=\u001b[39m \u001b[38;5;28mlen\u001b[39m(ytd_comments)\n",
      "\u001b[1;31mAttributeError\u001b[0m: 'WebDriver' object has no attribute 'find_elements_by_css_selector'"
     ]
    }
   ],
   "source": [
    "comment = 0\n",
    "comment_index = 0\n",
    "num_of_reply = 0\n",
    "slicing_num = 0\n",
    "while True:\n",
    "    # finding the comments\n",
    "    ytd_comments = driver.find_elements_by_css_selector(\"div#contents>ytd-comment-thread-renderer\")\n",
    "    # length of the list of comments\n",
    "    old_ytd_comments_len = len(ytd_comments)\n",
    "    print(old_ytd_comments_len)\n",
    "    # this section rejects previous comments and only take the comments that aren't in the save file(data.json)\n",
    "    sliced_ytd_comments = ytd_comments[slicing_num:]\n",
    "    # for extracting comments and replies\n",
    "    for ytd_comment in sliced_ytd_comments:\n",
    "        # this section shows the comment in the screen\n",
    "        driver.execute_script(\"arguments[0].scrollIntoView();\",ytd_comment)\n",
    "        # extracting the main comment\n",
    "        main_comment = ytd_comment.find_element_by_id(\"content\")\n",
    "        main_comment_text = main_comment.text\n",
    "        print(main_comment_text)\n",
    "        # all the replies will be stored in this list\n",
    "        replies_list = []\n",
    "        try:\n",
    "            time.sleep(.5)\n",
    "            # finding replies button and clicking it so that we can extract the value\n",
    "            replies_button = ytd_comment.find_element_by_css_selector(\"ytd-button-renderer#more-replies\")\n",
    "            driver.execute_script(\"arguments[0].click();\", replies_button) \n",
    "            time.sleep(1)\n",
    "            while True:\n",
    "                # a protion of replies that is rendered by javascript\n",
    "                replies = ytd_comment.find_elements_by_css_selector(\"yt-formatted-string#content-text\")\n",
    "                # checking how many replies youtube shows at a time\n",
    "                old_reply_len = len(replies)\n",
    "                # this captures how many replies we stored\n",
    "                reply_index = 0\n",
    "                print(len(replies))\n",
    "                for reply in replies:\n",
    "                    # checker for rejecting any reply that is stored in our json file\n",
    "                    if reply_index == num_of_reply:\n",
    "                        driver.execute_script(\"arguments[0].scrollIntoView();\",reply)\n",
    "                        reply_text = reply.text\n",
    "                        if reply_index != 0:\n",
    "                            replies_list.append(reply_text)\n",
    "                        print(reply.text)\n",
    "                        num_of_reply += 1\n",
    "                        reply_index += 1\n",
    "                    else:\n",
    "                        reply_index +=1\n",
    "                time.sleep(.5)\n",
    "                # replies that weren't loaded first time, this button loads them\n",
    "                see_more_replies_button = ytd_comment.find_element_by_css_selector(\"div#button>ytd-button-renderer\")\n",
    "                #time.sleep(2)\n",
    "                # clicking the see more replies button\n",
    "                driver.execute_script(\"arguments[0].click();\", see_more_replies_button) \n",
    "                time.sleep(1.5)\n",
    "                # we again find how many replies we have\n",
    "                replies = ytd_comment.find_elements_by_css_selector(\"yt-formatted-string#content-text\")\n",
    "                print(len(replies))\n",
    "                new_reply_len = len(replies)\n",
    "                # if we don't have any new replies then replies loop breakes and goes to next comment\n",
    "                if old_reply_len == new_reply_len:\n",
    "                    \n",
    "                    num_of_reply = 0\n",
    "                    break\n",
    "                else:\n",
    "                    pass\n",
    "        except:\n",
    "            num_of_reply = 0\n",
    "        # this dict stores the main comment and all the replies\n",
    "        single_comment_dict = {\n",
    "            \"main_comment\":main_comment_text,\n",
    "            \"replies\":replies_list\n",
    "            \n",
    "        }\n",
    "        # to store data we are calling the function\n",
    "        write_json(single_comment_dict)\n",
    "        # this stores how many comments we stored as we don't want to store the same data more than once\n",
    "        slicing_num += 1\n",
    "        print()\n",
    "        print()\n",
    "        print()\n",
    "    time.sleep(2)\n",
    "    # after scrolling the page new comments arrive and this portion detects how many new comments came \n",
    "    ytd_comments = driver.find_elements_by_css_selector(\"div#contents>ytd-comment-thread-renderer\")\n",
    "    new_ytd_comments_len = len(ytd_comments)\n",
    "    # if there is no new comments then the programme finishes\n",
    "    if old_ytd_comments_len == new_ytd_comments_len:\n",
    "        break\n",
    "driver.quit()     "
   ]
  },
  {
   "cell_type": "code",
   "execution_count": null,
   "metadata": {},
   "outputs": [],
   "source": []
  }
 ],
 "metadata": {
  "kernelspec": {
   "display_name": "Python 3 (ipykernel)",
   "language": "python",
   "name": "python3"
  },
  "language_info": {
   "codemirror_mode": {
    "name": "ipython",
    "version": 3
   },
   "file_extension": ".py",
   "mimetype": "text/x-python",
   "name": "python",
   "nbconvert_exporter": "python",
   "pygments_lexer": "ipython3",
   "version": "3.11.5"
  }
 },
 "nbformat": 4,
 "nbformat_minor": 4
}
